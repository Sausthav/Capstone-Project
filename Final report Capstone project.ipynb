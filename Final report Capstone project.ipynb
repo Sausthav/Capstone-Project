{
 "cells": [
  {
   "cell_type": "markdown",
   "metadata": {},
   "source": [
    "<h1>Final Report | Capstone Project - The Battle of Neighborhoods | Finding a better place in Bangalore India</h1>"
   ]
  },
  {
   "cell_type": "markdown",
   "metadata": {},
   "source": [
    "### Sausthava Goswami"
   ]
  },
  {
   "cell_type": "markdown",
   "metadata": {},
   "source": [
    " 09 August 2020"
   ]
  },
  {
   "cell_type": "markdown",
   "metadata": {},
   "source": [
    "## Table of contents\n",
    "* [Introduction: Business Problem](#introduction)\n",
    "* [Data](#data)\n",
    "* [Methodology](#methodology)\n",
    "* [Results and Discussion](#results)\n",
    "* [Conclusion](#conclusion)\n",
    "* [Future Directions](#future)"
   ]
  },
  {
   "cell_type": "markdown",
   "metadata": {},
   "source": [
    "## 1. Introduction: Business Problem <a name=\"introduction\"></a>"
   ]
  },
  {
   "cell_type": "markdown",
   "metadata": {},
   "source": [
    "The purpose of this Project is to help people in exploring better facilities around their neighborhood. It will help people making smart and efficient decision on selecting great neighborhood out of numbers of other neighborhoods in Bangalore, India.\n",
    "\n",
    "Lots of people are migrating from various states of India and needed lots of research for good house rental prices and reputated schools for their children. This project is for those people who are looking for better neighborhoods. For ease of accessing to Cafe, School, Super market, medical shops, grocery shops, mall, theatre, hospital, like minded people, etc.\n",
    "\n",
    "This Project aim to create an analysis of features for people migrating to Bangalore to search a best neighborhood as a comparative analysis between neighborhoods.\n",
    "\n",
    "It will help people to get an idea of the area and neighborhood before moving to a new city, state, country or place for their work or to start a new fresh life."
   ]
  },
  {
   "cell_type": "markdown",
   "metadata": {},
   "source": [
    "## 2. Data <a name=\"data\"></a>"
   ]
  },
  {
   "cell_type": "markdown",
   "metadata": {},
   "source": [
    "Based on definition of our problem, factors that will influence our decission are:\n",
    "* Schools with good ratings\n",
    "* House Rental prices\n",
    "* Ease of access to essential shops\n",
    "\n",
    "Following data sources will be needed to extract/generate the required information:\n",
    "* Neighborhood data scraped from https://www.mapsofindia.com/pincode/india/karnataka/bangalore/ using **Beautiful Soup Python Package**\n",
    "* Neighborhoods will be generated algorithmically and approximate location of those areas will be obtained using **Geocoder Python package**\n",
    "*  Venues in every neighborhood will be obtained using **Foursquare API**\n",
    "\n",
    "* The data retrieved from **Foursquare API** contained information of venues within a specified distance of the longitude and latitude of the postcodes. The information obtained per venue as follows:\n",
    "\n",
    "    1. Neighborhood\n",
    "    2. Neighborhood Latitude\n",
    "    3. Neighborhood Longitude\n",
    "    4. Venue\n",
    "    5. Name of the venue e.g. the name of a store or restaurant\n",
    "    6. Venue Latitude\n",
    "    7. Venue Longitude\n",
    "    8. Venue Category"
   ]
  },
  {
   "cell_type": "markdown",
   "metadata": {},
   "source": [
    "<h3>Map of Bangalore City</h3>"
   ]
  },
  {
   "cell_type": "markdown",
   "metadata": {},
   "source": [
    "<img src=\"images/bangcitymap.png\" style=\"float:left\">"
   ]
  },
  {
   "cell_type": "markdown",
   "metadata": {},
   "source": [
    "## 3. Methodology <a name=\"methodology\"></a>"
   ]
  },
  {
   "cell_type": "markdown",
   "metadata": {},
   "source": [
    "In this project we will direct our efforts on detecting areas of Bangalore that have the best neighborhoods for people migrating from other places.\n",
    "\n",
    "In first step we will collect the required data using **Beautiful Soup Library** and clean the data. We will also obtained the location of each neighborhood using **Geocoder Python package**\n",
    "\n",
    "Second step in our analysis will be getting the venues within a radius of 500 meters of each neighborhood using **Foursquare API** and explatory analysis one hot encoding and grouping rows by neighborhood and taking the mean of the frequency of occurrence of each category will be performed to get the Top 10 most common venues of each neighborhood and to get  a better understanding of the dataset. \n",
    "\n",
    "In third step we will focus on clustering the neighborhoods using **k-means clustering**.We will present map of all the neighborhoods of Bangalore City and visualize to see the simillar neighborhood clusters. We will also examine each of the clusters and determine the most common types of venues present in the neighborhoods.\n",
    "\n",
    "In the fourth and final step we will analyze neighborhoods and clusters based on the Average School Ratings and Average House Rental Prices which will also affect the decision making process."
   ]
  },
  {
   "cell_type": "markdown",
   "metadata": {},
   "source": [
    "<h2>3.1 Data Extraction, Cleaning and obtaining neighborhood coordinates</h2>"
   ]
  },
  {
   "cell_type": "markdown",
   "metadata": {},
   "source": [
    "Neighborhood data scraped from https://www.mapsofindia.com/pincode/india/karnataka/bangalore/ using **Beautiful Soup Python Package**"
   ]
  },
  {
   "cell_type": "markdown",
   "metadata": {},
   "source": [
    "### Top 5 rows of the extracted Dataset"
   ]
  },
  {
   "cell_type": "markdown",
   "metadata": {},
   "source": [
    "<img src=\"images/dataextract.png\" style=\"float:left\">"
   ]
  },
  {
   "cell_type": "markdown",
   "metadata": {},
   "source": [
    "### Top 5 rows of the cleaned Dataset"
   ]
  },
  {
   "cell_type": "markdown",
   "metadata": {},
   "source": [
    "<img src=\"images/datacleaned.png\" style=\"float:left\">"
   ]
  },
  {
   "cell_type": "markdown",
   "metadata": {},
   "source": [
    "### Top 5 rows of the dataset with neighboorhood co-ordinates"
   ]
  },
  {
   "cell_type": "markdown",
   "metadata": {},
   "source": [
    "Geocoder Python Package is used to obtain the neighborhood co-ordinates"
   ]
  },
  {
   "cell_type": "markdown",
   "metadata": {},
   "source": [
    "<img src=\"images/coord.png\" style=\"float:left\">"
   ]
  },
  {
   "cell_type": "markdown",
   "metadata": {},
   "source": [
    "<h2>3.2 Venues of each neighborhood obtained using <b>Foursquare API</b></h2>"
   ]
  },
  {
   "cell_type": "markdown",
   "metadata": {},
   "source": [
    "### Informaton about the venues"
   ]
  },
  {
   "cell_type": "markdown",
   "metadata": {},
   "source": [
    "<img src=\"images/venueinfo.png\" style=\"float:left\">"
   ]
  },
  {
   "cell_type": "markdown",
   "metadata": {},
   "source": [
    "### For <b>explatory analysis</b> one hot encoding and grouping neighborhoods and taking mean of the frequency of occurence of each category is performed."
   ]
  },
  {
   "cell_type": "markdown",
   "metadata": {},
   "source": [
    "#### One hot encoding"
   ]
  },
  {
   "cell_type": "markdown",
   "metadata": {},
   "source": [
    "<img src=\"images/onehotencoding.png\" style=\"float:left\">"
   ]
  },
  {
   "cell_type": "markdown",
   "metadata": {},
   "source": [
    "#### Grouping rows by neighborhood and taking the mean of the frequency of occurrence of each category"
   ]
  },
  {
   "cell_type": "markdown",
   "metadata": {},
   "source": [
    "<img src=\"images/grouping.png\" style=\"float:left\">"
   ]
  },
  {
   "cell_type": "markdown",
   "metadata": {},
   "source": [
    "#### Top 10 comon venues of each neighborhood"
   ]
  },
  {
   "cell_type": "markdown",
   "metadata": {},
   "source": [
    "<img src=\"images/venues.png\" style=\"float:left\">"
   ]
  },
  {
   "cell_type": "markdown",
   "metadata": {},
   "source": [
    "<h2>3.3 Clustering Neighborhoods</h2>"
   ]
  },
  {
   "cell_type": "markdown",
   "metadata": {},
   "source": [
    "### K-means clustering is used to cluster the neighborhoods into four different clusters based on simillar neighborhoods"
   ]
  },
  {
   "cell_type": "markdown",
   "metadata": {},
   "source": [
    "### Map of clusters"
   ]
  },
  {
   "cell_type": "markdown",
   "metadata": {},
   "source": [
    "<img src=\"images/cluster.png\" style=\"float:left\">"
   ]
  },
  {
   "cell_type": "markdown",
   "metadata": {},
   "source": [
    "### Examining clusters"
   ]
  },
  {
   "cell_type": "markdown",
   "metadata": {},
   "source": [
    "### Cluster 0 "
   ]
  },
  {
   "cell_type": "markdown",
   "metadata": {},
   "source": [
    "<img src=\"images/cluster0.png\" style=\"float:left\">"
   ]
  },
  {
   "cell_type": "markdown",
   "metadata": {},
   "source": [
    "Observation : Out of 30 neighborhoods in Cluster 0, 23 neighborhoods has 1st most common venues as \"Indian Restaurant\""
   ]
  },
  {
   "cell_type": "markdown",
   "metadata": {},
   "source": [
    "### Cluster 1"
   ]
  },
  {
   "cell_type": "markdown",
   "metadata": {},
   "source": [
    "<img src=\"images/cluster1.png\" style=\"float:left\">"
   ]
  },
  {
   "cell_type": "markdown",
   "metadata": {},
   "source": [
    "Observation : Most common venues in Cluster 1 is \"Diner\""
   ]
  },
  {
   "cell_type": "markdown",
   "metadata": {},
   "source": [
    "### Cluster 2"
   ]
  },
  {
   "cell_type": "markdown",
   "metadata": {},
   "source": [
    "<img src=\"images/cluster2.png\" style=\"float:left\">"
   ]
  },
  {
   "cell_type": "markdown",
   "metadata": {},
   "source": [
    "Observation : 1st most common venue in ATM present in 6 neighborhoods"
   ]
  },
  {
   "cell_type": "markdown",
   "metadata": {},
   "source": [
    "### Cluster 3"
   ]
  },
  {
   "cell_type": "markdown",
   "metadata": {},
   "source": [
    "<img src=\"images/cluster3.png\" style=\"float:left\">"
   ]
  },
  {
   "cell_type": "markdown",
   "metadata": {},
   "source": [
    "Observation : 1st most common venue is \"Cafe\" present in 7 neighborhoods"
   ]
  },
  {
   "cell_type": "markdown",
   "metadata": {},
   "source": [
    "<h2>3.4 Analyze based on Avg School and Avg House Rental Prices</h2>"
   ]
  },
  {
   "cell_type": "markdown",
   "metadata": {},
   "source": [
    "### Average School ratings for each neighborhood"
   ]
  },
  {
   "cell_type": "markdown",
   "metadata": {},
   "source": [
    "<img src=\"images/schoolneigh.png\" style=\"float:left\">"
   ]
  },
  {
   "cell_type": "markdown",
   "metadata": {},
   "source": [
    "### Average school ratings by cluster"
   ]
  },
  {
   "cell_type": "markdown",
   "metadata": {},
   "source": [
    "<img src=\"images/schoolcluster.png\" style=\"float:left\">"
   ]
  },
  {
   "cell_type": "markdown",
   "metadata": {},
   "source": [
    "### Average House rental price for each neighborhood"
   ]
  },
  {
   "cell_type": "markdown",
   "metadata": {},
   "source": [
    "<img src=\"images/rentneigh.png\" style=\"float:left\">"
   ]
  },
  {
   "cell_type": "markdown",
   "metadata": {},
   "source": [
    "### Average House rental price for each cluster"
   ]
  },
  {
   "cell_type": "markdown",
   "metadata": {},
   "source": [
    "<img src=\"images/rentcluster.png\" style=\"float:left\">"
   ]
  },
  {
   "cell_type": "markdown",
   "metadata": {},
   "source": [
    "## 4. Results and Discussion <a name=\"results\"></a>"
   ]
  },
  {
   "cell_type": "markdown",
   "metadata": {},
   "source": [
    "Our analysis shows that there are great number of neighborhoods in Bangalore to choose based of availability of essentials and fairly good schools and affordable house rents.\n",
    "\n",
    "Neighborhoods of Cluster 3 has good school ratings than the neighborhoods of cluster 0, although their average house rental prices are almost similar. Neighborhoods of cluster 3 also contains variety of venues with some of the most common venues include Cafe shops, parks, diner, design studios.\n",
    "\n",
    "So neighborhoods of cluster 3 are good if a person is migrating to Bangalore and wants a neighborhood with similar area of interest as discussed. But one can always choose a different neighbor based on their area of interests and needs."
   ]
  },
  {
   "cell_type": "markdown",
   "metadata": {},
   "source": [
    "## 5. Conclusion <a name=\"conclusion\"></a>"
   ]
  },
  {
   "cell_type": "markdown",
   "metadata": {},
   "source": [
    "Purpose of this project was to identify Neighborhoods in Bangalore with best facalities for a person migrating to Bangalore City.The location of each neighborhood was obtained using Geocoder Python package. The venues of each of the neighborhoods of Bangalore City was obtained using Foursquare API and analyzed to get the top 10 most common venues in each neighborhood.\n",
    "The neighborhoods were then clustered to analyze similar neighborhoods. Then the observations were visualized inorder to make an informed decision.\n",
    "\n",
    "Final decision on optimal neighborhood location will be made by individual based on specific characteristics of neighborhoods and locations, taking into consideration additional factors like attractiveness of each location (proximity to park or water), real estate availability, prices, social and economic dynamics of every neighborhood etc."
   ]
  },
  {
   "cell_type": "markdown",
   "metadata": {},
   "source": [
    "## 5. Future Directions <a name=\"future\"></a>"
   ]
  },
  {
   "cell_type": "markdown",
   "metadata": {},
   "source": [
    "For future work, adding more features and analyzing will help us improve the search for the most suitable neighborhood for different people according to their needs."
   ]
  },
  {
   "cell_type": "markdown",
   "metadata": {},
   "source": [
    "### Libraries used to Develope the Project:\n",
    "Pandas: For creating and manipulating dataframes.\n",
    "\n",
    "Folium: Python visualization library would be used to visualize the neighborhoods cluster distribution of using interactive leaflet map.\n",
    "\n",
    "Scikit Learn: For importing k-means clustering.\n",
    "\n",
    "JSON: Library to handle JSON files.\n",
    "\n",
    "XML: To separate data from presentation and XML stores data in plain text format.\n",
    "\n",
    "Geocoder: To retrieve Location Data.\n",
    "\n",
    "Beautiful Soup and Requests: To scrap and library to handle http requests.\n",
    "\n",
    "Matplotlib: Python Plotting Module"
   ]
  }
 ],
 "metadata": {
  "kernelspec": {
   "display_name": "Python 3",
   "language": "python",
   "name": "python3"
  },
  "language_info": {
   "codemirror_mode": {
    "name": "ipython",
    "version": 3
   },
   "file_extension": ".py",
   "mimetype": "text/x-python",
   "name": "python",
   "nbconvert_exporter": "python",
   "pygments_lexer": "ipython3",
   "version": "3.7.6"
  }
 },
 "nbformat": 4,
 "nbformat_minor": 4
}
