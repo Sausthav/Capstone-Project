{
 "cells": [
  {
   "cell_type": "markdown",
   "metadata": {},
   "source": [
    "## 1. Introduction: Business Problem <a name=\"introduction\"></a>"
   ]
  },
  {
   "cell_type": "markdown",
   "metadata": {},
   "source": [
    "The purpose of this Project is to help people in exploring better facilities around their neighborhood. It will help people making smart and efficient decision on selecting great neighborhood out of numbers of other neighborhoods in Bangalore, India.\n",
    "\n",
    "Lots of people are migrating from various states of India and needed lots of research for good house rental prices and reputated schools for their children. This project is for those people who are looking for better neighborhoods. For ease of accessing to Cafe, School, Super market, medical shops, grocery shops, mall, theatre, hospital, like minded people, etc.\n",
    "\n",
    "This Project aim to create an analysis of features for people migrating to Bangalore to search a best neighborhood as a comparative analysis between neighborhoods.\n",
    "\n",
    "It will help people to get an idea of the area and neighborhood before moving to a new city, state, country or place for their work or to start a new fresh life."
   ]
  },
  {
   "cell_type": "markdown",
   "metadata": {},
   "source": [
    "## 2. Data <a name=\"data\"></a>"
   ]
  },
  {
   "cell_type": "markdown",
   "metadata": {},
   "source": [
    "Based on definition of our problem, factors that will influence our decission are:\n",
    "* Schools with good ratings\n",
    "* House Rental prices\n",
    "* Ease of access to essential shops\n",
    "\n",
    "Following data sources will be needed to extract/generate the required information:\n",
    "* Neighborhood data scraped from https://www.mapsofindia.com/pincode/india/karnataka/bangalore/ using **Beautiful Soup Python Package**\n",
    "* Neighborhoods will be generated algorithmically and approximate location of those areas will be obtained using **Geocoder Python package**\n",
    "*  Venues in every neighborhood will be obtained using **Foursquare API**\n",
    "\n",
    "* The data retrieved from **Foursquare API** contained information of venues within a specified distance of the longitude and latitude of the postcodes. The information obtained per venue as follows:\n",
    "\n",
    "    1. Neighborhood\n",
    "    2. Neighborhood Latitude\n",
    "    3. Neighborhood Longitude\n",
    "    4. Venue\n",
    "    5. Name of the venue e.g. the name of a store or restaurant\n",
    "    6. Venue Latitude\n",
    "    7. Venue Longitude\n",
    "    8. Venue Category"
   ]
  }
 ],
 "metadata": {
  "kernelspec": {
   "display_name": "Python 3",
   "language": "python",
   "name": "python3"
  },
  "language_info": {
   "codemirror_mode": {
    "name": "ipython",
    "version": 3
   },
   "file_extension": ".py",
   "mimetype": "text/x-python",
   "name": "python",
   "nbconvert_exporter": "python",
   "pygments_lexer": "ipython3",
   "version": "3.7.6"
  }
 },
 "nbformat": 4,
 "nbformat_minor": 4
}
